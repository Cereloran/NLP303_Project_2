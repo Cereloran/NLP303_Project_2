{
 "cells": [
  {
   "metadata": {},
   "cell_type": "markdown",
   "source": [
    "# NLP303 Assessment 2\n",
    "## Authors: Michael Cuffe & Rachel Tucker\n",
    "## Due Date: 10th November 2024\n",
    "### Python 3.12.0 | Jupyter Notebook 6.4.3"
   ],
   "id": "ae59f7bf23854931"
  },
  {
   "metadata": {},
   "cell_type": "markdown",
   "source": [
    "# Dependencies\n",
    "Installing all necessary packages and suppressing the output for readability."
   ],
   "id": "946cc9c0580f565c"
  },
  {
   "metadata": {},
   "cell_type": "code",
   "outputs": [],
   "execution_count": null,
   "source": [
    "from contextlib import nullcontext\n",
    "!pip install transformers > NUL 2>&1\n",
    "!pip install tensorflow > NUL 2>&1\n",
    "!pip install tf-keras > NUL 2>&1\n",
    "!pip install pandas > NUL 2>&1"
   ],
   "id": "e9c293fd6c01b7dd"
  },
  {
   "metadata": {},
   "cell_type": "markdown",
   "source": "Importing the necessary libraries globally",
   "id": "ae43b013f6823c92"
  },
  {
   "metadata": {},
   "cell_type": "code",
   "outputs": [],
   "execution_count": null,
   "source": [
    "from transformers import pipeline\n",
    "import pandas as pd"
   ],
   "id": "85d8355ea17ce1e3"
  },
  {
   "metadata": {},
   "cell_type": "markdown",
   "source": "# Loading the Data for a quick geez ",
   "id": "aea2bdc28d960c34"
  },
  {
   "metadata": {},
   "cell_type": "code",
   "outputs": [],
   "execution_count": null,
   "source": [
    "\n",
    "# Load the datasets\n",
    "real_news = pd.read_csv('True.csv')\n",
    "fake_news = pd.read_csv('Fake.csv')\n",
    "\n",
    "# Printing head and tail\n",
    "print(real_news)\n",
    "print(fake_news)\n",
    "\n",
    "# Print length => rows\n",
    "print(\"Length (rows):\", len(real_news))\n",
    "print(\"Length (rows):\", len(fake_news))"
   ],
   "id": "4b0683d629e93958"
  },
  {
   "metadata": {},
   "cell_type": "markdown",
   "source": "# Fake News Detection",
   "id": "72b2b35ba65fc585"
  },
  {
   "metadata": {},
   "cell_type": "code",
   "outputs": [],
   "execution_count": null,
   "source": [
    "fnd_pipeline = pipeline(\"fake-news-detection\", model=\"distilbert/distilbert-base-cased-distilled-squad\", device=0)\n",
    "\n",
    "real_news = pd.read_csv('True.csv')\n",
    "fake_news = pd.read_csv('Fake.csv')\n",
    "\n",
    "text = nullcontext\n",
    "\n",
    "fnd_result = fnd_pipeline(text)\n",
    "\n",
    "print(fnd_result)"
   ],
   "id": "cd07a1bac2b59983"
  },
  {
   "metadata": {},
   "cell_type": "markdown",
   "source": "# Medical Text Extraction",
   "id": "54f8d6b33e85e4d2"
  },
  {
   "metadata": {},
   "cell_type": "code",
   "outputs": [],
   "execution_count": null,
   "source": [
    "mte_pipeline = pipeline(\"medical-text-extraction\", model=\"distilbert/distilbert-base-cased-distilled-squad\", device=0)\n",
    "\n",
    "\n",
    "text = nullcontext\n",
    "\n",
    "mte_result = mte_pipeline(text)\n",
    "\n",
    "print(mte_result)"
   ],
   "id": "534300cc557b37cd"
  },
  {
   "metadata": {},
   "cell_type": "markdown",
   "source": "# Question Answering",
   "id": "3d88523c72764c7c"
  },
  {
   "metadata": {},
   "cell_type": "code",
   "outputs": [],
   "execution_count": null,
   "source": [
    "qa_pipeline = pipeline(\"question-answering\", model=\"distilbert/distilbert-base-cased-distilled-squad\", device=0)\n",
    "\n",
    "context = \"\"\" \n",
    "Some text about something  would go here\n",
    "\"\"\"\n",
    "question = \"What is the bla bla of the text?\"\n",
    "\n",
    "qa_result = qa_pipeline(question=question, context=context)\n",
    "print(qa_result)"
   ],
   "id": "71a858dbfbc021a2"
  },
  {
   "metadata": {},
   "cell_type": "markdown",
   "source": "# Sentiment Analysis    ",
   "id": "f7909e02f8050336"
  },
  {
   "metadata": {},
   "cell_type": "code",
   "outputs": [],
   "execution_count": null,
   "source": [
    "sentiment_pipeline = pipeline(\"sentiment-analysis\", model=\"distilbert-base-uncased-finetuned-sst-2-english\", device=0)\n",
    "\n",
    "sequence1 = \"I love the coding in python!\"\n",
    "sequence2 = \"Using 200 nested if statements is terrible.\"\n",
    "\n",
    "result1 = sentiment_pipeline(sequence1)\n",
    "result2 = sentiment_pipeline(sequence2)\n",
    "\n",
    "print(result1)\n",
    "print(result2)"
   ],
   "id": "feff90ed27dd3c55"
  },
  {
   "metadata": {},
   "cell_type": "markdown",
   "source": "end of file",
   "id": "1909839a6a867c18"
  }
 ],
 "metadata": {
  "kernelspec": {
   "display_name": "Python 3",
   "language": "python",
   "name": "python3"
  },
  "language_info": {
   "codemirror_mode": {
    "name": "ipython",
    "version": 2
   },
   "file_extension": ".py",
   "mimetype": "text/x-python",
   "name": "python",
   "nbconvert_exporter": "python",
   "pygments_lexer": "ipython2",
   "version": "2.7.6"
  }
 },
 "nbformat": 4,
 "nbformat_minor": 5
}
